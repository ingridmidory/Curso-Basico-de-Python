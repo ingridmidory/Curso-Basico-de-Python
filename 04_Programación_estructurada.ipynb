{
  "nbformat": 4,
  "nbformat_minor": 0,
  "metadata": {
    "colab": {
      "provenance": [],
      "include_colab_link": true
    },
    "kernelspec": {
      "name": "python3",
      "display_name": "Python 3"
    }
  },
  "cells": [
    {
      "cell_type": "markdown",
      "metadata": {
        "id": "view-in-github",
        "colab_type": "text"
      },
      "source": [
        "<a href=\"https://colab.research.google.com/github/ingridmidory/Curso-Basico-de-Python/blob/main/04_Programaci%C3%B3n_estructurada.ipynb\" target=\"_parent\"><img src=\"https://colab.research.google.com/assets/colab-badge.svg\" alt=\"Open In Colab\"/></a>"
      ]
    },
    {
      "cell_type": "markdown",
      "metadata": {
        "id": "9TuLiovpPee-"
      },
      "source": [
        "<h2> Introducción a la programación en Python </h2>\n",
        "<h2> Profesor: José Gerardo López Bonifacio. </h2>\n",
        "<h2> Ayudante: Ingrid Midory Monterroso. </h2>\n",
        "<h2> Clase 18.09.24 </h2>\n"
      ]
    },
    {
      "cell_type": "markdown",
      "metadata": {
        "id": "Ao0k0_Hr12qH"
      },
      "source": [
        "# <h3> Programación estructurada </h3>\n",
        "\n",
        "La programación estructurada es un paradigma de programación basado en utilizar funciones o subrutinas, y únicamente tres estructuras de control: <p>\n",
        "secuencia: ejecución de una instrucción tras otra. <p>\n",
        "selección o condicional: ejecución de una instrucción o conjunto de instrucciones, según el valor de una variable booleana. <p>\n",
        "iteración (ciclo o bucle): ejecución de una instrucción o conjunto de instrucciones, mientras una variable booleana sea verdadera. <p>\n",
        "La programación estructurada se fundamente en el teorema correspondiente, que establece que toda función computable puede ser implementada en un lenguaje de programación que combine sólo estas tres estructuras lógicas o de control. <p>\n",
        "La estructura de secuencia es la que se da naturalmente en el lenguaje, ya que por defecto las sentencias son ejecutadas en el orden en que aparecen escritas en el programa. <p>\n",
        "Para las estructuras condicionales o de selección, Python dispone de la instrucción if, que puede combinarse con instrucciones elif y/o else. <p>\n",
        "Para los bucles o iteraciones existen las estructuras while y for.\n",
        "<h4> if </h4>\n",
        "\n",
        "La instrucción if verifica el valor de verdad de una expresión, y si es verdadera ejecuta el código correspondiente. <p>\n",
        "La sintaxis es: <p>\n",
        "if condición: <p>\n",
        "<pre>  bloque de código (indentado) </pre>\n",
        "\n",
        "La condición debe ser cualquier expresión que devuelva el valor True o False. <p>\n",
        "Por ejemplo, pueden usarse cualquiera de los operadores de comparación vistos en la clase 1."
      ]
    },
    {
      "cell_type": "code",
      "metadata": {
        "id": "wxw5XXyu4HIe",
        "colab": {
          "base_uri": "https://localhost:8080/"
        },
        "outputId": "5d7efdb0-28f4-44fa-b36e-a700d5912561"
      },
      "source": [
        "edad=int(input(\"dame  tu edad\"))\n",
        "if edad >= 18:\n",
        "  print(\"pagas pasaje de adulto\")\n",
        "if edad <=17:\n",
        "  print(\"pagas pasaje de menor de edad\")\n",
        "print(\"tu edad es \"+ str(edad))"
      ],
      "execution_count": null,
      "outputs": [
        {
          "output_type": "stream",
          "name": "stdout",
          "text": [
            "dame  tu edad8\n",
            "pagas pasaje de menor de edad\n",
            "tu edad es 8\n"
          ]
        }
      ]
    },
    {
      "cell_type": "markdown",
      "metadata": {
        "id": "tOtT-BcB63WR"
      },
      "source": [
        "Las comparaciones pueden combinarse con los operadores booleanos and, or y not."
      ]
    },
    {
      "cell_type": "code",
      "metadata": {
        "id": "CtYlUB0568Ok",
        "colab": {
          "base_uri": "https://localhost:8080/"
        },
        "outputId": "2c2c5b1d-6e31-415a-8c6b-d0f5c6015a0b"
      },
      "source": [
        "a = 5\n",
        "if a >= 0 and a < 10:\n",
        "  print(\"a es un número entre 0 y 9\")"
      ],
      "execution_count": null,
      "outputs": [
        {
          "output_type": "stream",
          "name": "stdout",
          "text": [
            "a es un número entre 0 y 9\n"
          ]
        }
      ]
    },
    {
      "cell_type": "code",
      "metadata": {
        "id": "-GP5p8eV8d5W",
        "colab": {
          "base_uri": "https://localhost:8080/"
        },
        "outputId": "0065366c-d9bd-4d63-be07-b0fd1e4e13eb"
      },
      "source": [
        "calificacion = int(input(\"dame tu calificación a: \"))\n",
        "if calificacion == 10:\n",
        "  print(\"Diez\")\n",
        "if calificacion == 9:\n",
        "  print(\"Nueve\")\n",
        "if calificacion < 6 and calificacion > 0:\n",
        "  print(\"Reprobado\")"
      ],
      "execution_count": null,
      "outputs": [
        {
          "output_type": "stream",
          "name": "stdout",
          "text": [
            "dame tu calificación a: 10\n",
            "Diez\n"
          ]
        }
      ]
    },
    {
      "cell_type": "markdown",
      "metadata": {
        "id": "6NTmGbLlBXeu"
      },
      "source": [
        "<h4>Ejemplo 3.1</h4>\n",
        "\n",
        "Vamos a definir una función que, dada una altura en número de nota MIDI, verfica que se encuentra dentro de un rango determinado (por defecto, el rango completo de notas MIDI, 0 a 127)."
      ]
    },
    {
      "cell_type": "code",
      "metadata": {
        "id": "pa73fdASBhUd",
        "colab": {
          "base_uri": "https://localhost:8080/"
        },
        "outputId": "0fdf8f30-6271-420b-9446-a48242c1df99"
      },
      "source": [
        "def nota_en_rango(nota, lim_inf=0, lim_sup=127):\n",
        "  \"\"\"Verifica si una altura en nota MIDI está dentro de un rango\"\"\"\n",
        "\n",
        "  if nota < lim_inf or nota > lim_sup: # imprime una advertencia si la nota está fuera de rango.\n",
        "    print(\"ATENCIÓN: la nota {} está fuera del rango {} - {}\".format(nota, lim_inf, lim_sup))\n",
        "nota = 88\n",
        "nota_en_rango(nota)\n",
        "nota_en_rango(nota, 55, 80)"
      ],
      "execution_count": null,
      "outputs": [
        {
          "output_type": "stream",
          "name": "stdout",
          "text": [
            "ATENCIÓN: la nota 88 está fuera del rango 55 - 80\n"
          ]
        }
      ]
    },
    {
      "cell_type": "markdown",
      "metadata": {
        "id": "ui1bSw_0B5bq"
      },
      "source": [
        "<h4> if - else </h4> <p>\n",
        "La instrucción if puede opcionalmente combinarse con la instrucción else, que ejecuta un bloque de código alternativo, cuando no se cumple la condición del if. <p>\n",
        "Por ejemplo, la función anterior solamente imprime una advertencia cuando la altura está fuera de rango; en caso contrario, pasa silenciosamente. Podemos completar la estructura if con un else, para que la función reporte un resultado en todos los casos. <p>\n",
        "Ejemplo 3.1b"
      ]
    },
    {
      "cell_type": "code",
      "metadata": {
        "id": "N7W1tivMCHha",
        "colab": {
          "base_uri": "https://localhost:8080/"
        },
        "outputId": "59bd882d-a99f-4748-a390-1e37b9979f0b"
      },
      "source": [
        "def nota_en_rango(nota, lim_inf=0, lim_sup=127):\n",
        "  \"\"\"Verifica si una altura en nota MIDI está dentro de un rango\"\"\"\n",
        "  if nota < lim_inf or nota > lim_sup: # imprime una advertencia si la nota está fuera de rango.\n",
        "    print(\"ATENCIÓN: la nota {} está fuera del rango {} - {}\".format(nota, lim_inf, lim_sup))\n",
        "  else: # en caso contrario, devuelve un OK\n",
        "    print(\"nota {}: OK\".format(nota))\n",
        "nota = 88\n",
        "nota_en_rango(nota)\n",
        "nota_en_rango(nota, 55, 80)"
      ],
      "execution_count": null,
      "outputs": [
        {
          "output_type": "stream",
          "name": "stdout",
          "text": [
            "nota 88: OK\n",
            "ATENCIÓN: la nota 88 está fuera del rango 55 - 80\n"
          ]
        }
      ]
    },
    {
      "cell_type": "markdown",
      "metadata": {
        "id": "6vAxGESsCZqo"
      },
      "source": [
        "<h4> if - elif </h4> <p>\n",
        "Las estructuras condicionales if también pueden combinarse con una o más instrucciones elif, que es una abreviación de else, if. <p>\n",
        "Cada elif agrega una nueva condición a probar, si no se cumple la condición del if o elif anterior. <p>\n",
        "La función del ejemplo anterior se puede ampliar para que primero chequee si la nota está por debajo del límite inferior, y en caso contrario, ver si excede el límite superior. De no cumplirse ninguna de las dos condiciones, se ejecuta el else. <p>\n",
        "Ejemplo 3.1c"
      ]
    },
    {
      "cell_type": "code",
      "metadata": {
        "id": "TDa534GDCYYv",
        "colab": {
          "base_uri": "https://localhost:8080/"
        },
        "outputId": "cb2d924a-86f7-4718-e2f2-24cd219d755e"
      },
      "source": [
        "def nota_en_rango(nota, lim_inf=0, lim_sup=127):\n",
        "  \"\"\"Verifica si una altura en nota MIDI está dentro de un rango\"\"\"\n",
        "  if nota < lim_inf: # imprime una advertencia si está debajo del límite inferior\n",
        "   print(\"ATENCIÓN: la nota {} está por debajo del límite inferior\".format(nota))\n",
        "  elif nota > lim_sup: # imprime una advertencia si encima del límite superior\n",
        "   print(\"ATENCIÓN: la nota {} está por encima del límite superior\".format(nota))\n",
        "  else: # en caso contrario, devuelve un OK\n",
        "   print(\"nota {}: OK\".format(nota))\n",
        "nota1 = 88\n",
        "nota2 = -3\n",
        "nota3 = 132\n",
        "nota_en_rango(nota1)\n",
        "nota_en_rango(nota2)\n",
        "nota_en_rango(nota3)"
      ],
      "execution_count": null,
      "outputs": [
        {
          "output_type": "stream",
          "name": "stdout",
          "text": [
            "nota 88: OK\n",
            "ATENCIÓN: la nota -3 está por debajo del límite inferior\n",
            "ATENCIÓN: la nota 132 está por encima del límite superior\n"
          ]
        }
      ]
    },
    {
      "cell_type": "markdown",
      "metadata": {
        "id": "dEDhcVTsDaDA"
      },
      "source": [
        "El esquema de una estructura completa con un if, uno o más elif, y un else, sería la siguiente: <p>\n",
        "if condición1: <p>\n",
        "<pre>bloque de código 1 (indentado) </pre\n",
        "\n",
        "```\n",
        "# Esto tiene formato de código\n",
        "```\n",
        "\n",
        ">\n",
        "elif condición2: <p>\n",
        "<pre>bloque de código 2 (indentado) </pre>\n",
        "· <p>\n",
        "· <p>\n",
        "· <p>\n",
        "else: <p>\n",
        "<pre> bloque de código N (indentado) </pre>\n",
        "while <p>\n",
        "La instrucción while permite implementar un ciclo o bucle: verifica el valor de una condición, y si ésta es verdadera, ejecuta el código que sigue. El proceso se repite hasta que la expresión condicional sea falsa. <p>\n",
        "El esquema de la sintaxis es: <p>\n",
        "while condición: <p>\n",
        "<pre>bloque de código (indentado) </pre>"
      ]
    },
    {
      "cell_type": "code",
      "metadata": {
        "id": "r9S2a87YFwwH",
        "colab": {
          "base_uri": "https://localhost:8080/"
        },
        "outputId": "960343bf-8866-439d-bdc5-23956113d9d4",
        "collapsed": true
      },
      "source": [
        "contador = 0\n",
        "while contador < 700:\n",
        "  print(contador, end='\\n')\n",
        "  contador += 1 # se incrementa el valor de la variable"
      ],
      "execution_count": null,
      "outputs": [
        {
          "output_type": "stream",
          "name": "stdout",
          "text": [
            "0\n",
            "1\n",
            "2\n",
            "3\n",
            "4\n",
            "5\n",
            "6\n",
            "7\n",
            "8\n",
            "9\n",
            "10\n",
            "11\n",
            "12\n",
            "13\n",
            "14\n",
            "15\n",
            "16\n",
            "17\n",
            "18\n",
            "19\n",
            "20\n",
            "21\n",
            "22\n",
            "23\n",
            "24\n",
            "25\n",
            "26\n",
            "27\n",
            "28\n",
            "29\n",
            "30\n",
            "31\n",
            "32\n",
            "33\n",
            "34\n",
            "35\n",
            "36\n",
            "37\n",
            "38\n",
            "39\n",
            "40\n",
            "41\n",
            "42\n",
            "43\n",
            "44\n",
            "45\n",
            "46\n",
            "47\n",
            "48\n",
            "49\n",
            "50\n",
            "51\n",
            "52\n",
            "53\n",
            "54\n",
            "55\n",
            "56\n",
            "57\n",
            "58\n",
            "59\n",
            "60\n",
            "61\n",
            "62\n",
            "63\n",
            "64\n",
            "65\n",
            "66\n",
            "67\n",
            "68\n",
            "69\n",
            "70\n",
            "71\n",
            "72\n",
            "73\n",
            "74\n",
            "75\n",
            "76\n",
            "77\n",
            "78\n",
            "79\n",
            "80\n",
            "81\n",
            "82\n",
            "83\n",
            "84\n",
            "85\n",
            "86\n",
            "87\n",
            "88\n",
            "89\n",
            "90\n",
            "91\n",
            "92\n",
            "93\n",
            "94\n",
            "95\n",
            "96\n",
            "97\n",
            "98\n",
            "99\n",
            "100\n",
            "101\n",
            "102\n",
            "103\n",
            "104\n",
            "105\n",
            "106\n",
            "107\n",
            "108\n",
            "109\n",
            "110\n",
            "111\n",
            "112\n",
            "113\n",
            "114\n",
            "115\n",
            "116\n",
            "117\n",
            "118\n",
            "119\n",
            "120\n",
            "121\n",
            "122\n",
            "123\n",
            "124\n",
            "125\n",
            "126\n",
            "127\n",
            "128\n",
            "129\n",
            "130\n",
            "131\n",
            "132\n",
            "133\n",
            "134\n",
            "135\n",
            "136\n",
            "137\n",
            "138\n",
            "139\n",
            "140\n",
            "141\n",
            "142\n",
            "143\n",
            "144\n",
            "145\n",
            "146\n",
            "147\n",
            "148\n",
            "149\n",
            "150\n",
            "151\n",
            "152\n",
            "153\n",
            "154\n",
            "155\n",
            "156\n",
            "157\n",
            "158\n",
            "159\n",
            "160\n",
            "161\n",
            "162\n",
            "163\n",
            "164\n",
            "165\n",
            "166\n",
            "167\n",
            "168\n",
            "169\n",
            "170\n",
            "171\n",
            "172\n",
            "173\n",
            "174\n",
            "175\n",
            "176\n",
            "177\n",
            "178\n",
            "179\n",
            "180\n",
            "181\n",
            "182\n",
            "183\n",
            "184\n",
            "185\n",
            "186\n",
            "187\n",
            "188\n",
            "189\n",
            "190\n",
            "191\n",
            "192\n",
            "193\n",
            "194\n",
            "195\n",
            "196\n",
            "197\n",
            "198\n",
            "199\n",
            "200\n",
            "201\n",
            "202\n",
            "203\n",
            "204\n",
            "205\n",
            "206\n",
            "207\n",
            "208\n",
            "209\n",
            "210\n",
            "211\n",
            "212\n",
            "213\n",
            "214\n",
            "215\n",
            "216\n",
            "217\n",
            "218\n",
            "219\n",
            "220\n",
            "221\n",
            "222\n",
            "223\n",
            "224\n",
            "225\n",
            "226\n",
            "227\n",
            "228\n",
            "229\n",
            "230\n",
            "231\n",
            "232\n",
            "233\n",
            "234\n",
            "235\n",
            "236\n",
            "237\n",
            "238\n",
            "239\n",
            "240\n",
            "241\n",
            "242\n",
            "243\n",
            "244\n",
            "245\n",
            "246\n",
            "247\n",
            "248\n",
            "249\n",
            "250\n",
            "251\n",
            "252\n",
            "253\n",
            "254\n",
            "255\n",
            "256\n",
            "257\n",
            "258\n",
            "259\n",
            "260\n",
            "261\n",
            "262\n",
            "263\n",
            "264\n",
            "265\n",
            "266\n",
            "267\n",
            "268\n",
            "269\n",
            "270\n",
            "271\n",
            "272\n",
            "273\n",
            "274\n",
            "275\n",
            "276\n",
            "277\n",
            "278\n",
            "279\n",
            "280\n",
            "281\n",
            "282\n",
            "283\n",
            "284\n",
            "285\n",
            "286\n",
            "287\n",
            "288\n",
            "289\n",
            "290\n",
            "291\n",
            "292\n",
            "293\n",
            "294\n",
            "295\n",
            "296\n",
            "297\n",
            "298\n",
            "299\n",
            "300\n",
            "301\n",
            "302\n",
            "303\n",
            "304\n",
            "305\n",
            "306\n",
            "307\n",
            "308\n",
            "309\n",
            "310\n",
            "311\n",
            "312\n",
            "313\n",
            "314\n",
            "315\n",
            "316\n",
            "317\n",
            "318\n",
            "319\n",
            "320\n",
            "321\n",
            "322\n",
            "323\n",
            "324\n",
            "325\n",
            "326\n",
            "327\n",
            "328\n",
            "329\n",
            "330\n",
            "331\n",
            "332\n",
            "333\n",
            "334\n",
            "335\n",
            "336\n",
            "337\n",
            "338\n",
            "339\n",
            "340\n",
            "341\n",
            "342\n",
            "343\n",
            "344\n",
            "345\n",
            "346\n",
            "347\n",
            "348\n",
            "349\n",
            "350\n",
            "351\n",
            "352\n",
            "353\n",
            "354\n",
            "355\n",
            "356\n",
            "357\n",
            "358\n",
            "359\n",
            "360\n",
            "361\n",
            "362\n",
            "363\n",
            "364\n",
            "365\n",
            "366\n",
            "367\n",
            "368\n",
            "369\n",
            "370\n",
            "371\n",
            "372\n",
            "373\n",
            "374\n",
            "375\n",
            "376\n",
            "377\n",
            "378\n",
            "379\n",
            "380\n",
            "381\n",
            "382\n",
            "383\n",
            "384\n",
            "385\n",
            "386\n",
            "387\n",
            "388\n",
            "389\n",
            "390\n",
            "391\n",
            "392\n",
            "393\n",
            "394\n",
            "395\n",
            "396\n",
            "397\n",
            "398\n",
            "399\n",
            "400\n",
            "401\n",
            "402\n",
            "403\n",
            "404\n",
            "405\n",
            "406\n",
            "407\n",
            "408\n",
            "409\n",
            "410\n",
            "411\n",
            "412\n",
            "413\n",
            "414\n",
            "415\n",
            "416\n",
            "417\n",
            "418\n",
            "419\n",
            "420\n",
            "421\n",
            "422\n",
            "423\n",
            "424\n",
            "425\n",
            "426\n",
            "427\n",
            "428\n",
            "429\n",
            "430\n",
            "431\n",
            "432\n",
            "433\n",
            "434\n",
            "435\n",
            "436\n",
            "437\n",
            "438\n",
            "439\n",
            "440\n",
            "441\n",
            "442\n",
            "443\n",
            "444\n",
            "445\n",
            "446\n",
            "447\n",
            "448\n",
            "449\n",
            "450\n",
            "451\n",
            "452\n",
            "453\n",
            "454\n",
            "455\n",
            "456\n",
            "457\n",
            "458\n",
            "459\n",
            "460\n",
            "461\n",
            "462\n",
            "463\n",
            "464\n",
            "465\n",
            "466\n",
            "467\n",
            "468\n",
            "469\n",
            "470\n",
            "471\n",
            "472\n",
            "473\n",
            "474\n",
            "475\n",
            "476\n",
            "477\n",
            "478\n",
            "479\n",
            "480\n",
            "481\n",
            "482\n",
            "483\n",
            "484\n",
            "485\n",
            "486\n",
            "487\n",
            "488\n",
            "489\n",
            "490\n",
            "491\n",
            "492\n",
            "493\n",
            "494\n",
            "495\n",
            "496\n",
            "497\n",
            "498\n",
            "499\n",
            "500\n",
            "501\n",
            "502\n",
            "503\n",
            "504\n",
            "505\n",
            "506\n",
            "507\n",
            "508\n",
            "509\n",
            "510\n",
            "511\n",
            "512\n",
            "513\n",
            "514\n",
            "515\n",
            "516\n",
            "517\n",
            "518\n",
            "519\n",
            "520\n",
            "521\n",
            "522\n",
            "523\n",
            "524\n",
            "525\n",
            "526\n",
            "527\n",
            "528\n",
            "529\n",
            "530\n",
            "531\n",
            "532\n",
            "533\n",
            "534\n",
            "535\n",
            "536\n",
            "537\n",
            "538\n",
            "539\n",
            "540\n",
            "541\n",
            "542\n",
            "543\n",
            "544\n",
            "545\n",
            "546\n",
            "547\n",
            "548\n",
            "549\n",
            "550\n",
            "551\n",
            "552\n",
            "553\n",
            "554\n",
            "555\n",
            "556\n",
            "557\n",
            "558\n",
            "559\n",
            "560\n",
            "561\n",
            "562\n",
            "563\n",
            "564\n",
            "565\n",
            "566\n",
            "567\n",
            "568\n",
            "569\n",
            "570\n",
            "571\n",
            "572\n",
            "573\n",
            "574\n",
            "575\n",
            "576\n",
            "577\n",
            "578\n",
            "579\n",
            "580\n",
            "581\n",
            "582\n",
            "583\n",
            "584\n",
            "585\n",
            "586\n",
            "587\n",
            "588\n",
            "589\n",
            "590\n",
            "591\n",
            "592\n",
            "593\n",
            "594\n",
            "595\n",
            "596\n",
            "597\n",
            "598\n",
            "599\n",
            "600\n",
            "601\n",
            "602\n",
            "603\n",
            "604\n",
            "605\n",
            "606\n",
            "607\n",
            "608\n",
            "609\n",
            "610\n",
            "611\n",
            "612\n",
            "613\n",
            "614\n",
            "615\n",
            "616\n",
            "617\n",
            "618\n",
            "619\n",
            "620\n",
            "621\n",
            "622\n",
            "623\n",
            "624\n",
            "625\n",
            "626\n",
            "627\n",
            "628\n",
            "629\n",
            "630\n",
            "631\n",
            "632\n",
            "633\n",
            "634\n",
            "635\n",
            "636\n",
            "637\n",
            "638\n",
            "639\n",
            "640\n",
            "641\n",
            "642\n",
            "643\n",
            "644\n",
            "645\n",
            "646\n",
            "647\n",
            "648\n",
            "649\n",
            "650\n",
            "651\n",
            "652\n",
            "653\n",
            "654\n",
            "655\n",
            "656\n",
            "657\n",
            "658\n",
            "659\n",
            "660\n",
            "661\n",
            "662\n",
            "663\n",
            "664\n",
            "665\n",
            "666\n",
            "667\n",
            "668\n",
            "669\n",
            "670\n",
            "671\n",
            "672\n",
            "673\n",
            "674\n",
            "675\n",
            "676\n",
            "677\n",
            "678\n",
            "679\n",
            "680\n",
            "681\n",
            "682\n",
            "683\n",
            "684\n",
            "685\n",
            "686\n",
            "687\n",
            "688\n",
            "689\n",
            "690\n",
            "691\n",
            "692\n",
            "693\n",
            "694\n",
            "695\n",
            "696\n",
            "697\n",
            "698\n",
            "699\n"
          ]
        }
      ]
    },
    {
      "cell_type": "code",
      "metadata": {
        "id": "8A7rOCw4-NUn",
        "colab": {
          "base_uri": "https://localhost:8080/"
        },
        "outputId": "eac1a89a-a7b0-4c04-f11d-3b8457d7e409"
      },
      "source": [
        "contador = 100\n",
        "while contador > -1:\n",
        "  print(contador, end=' ')\n",
        "  contador -= 1 # se decrementa el valor de la variable"
      ],
      "execution_count": null,
      "outputs": [
        {
          "output_type": "stream",
          "name": "stdout",
          "text": [
            "100 99 98 97 96 95 94 93 92 91 90 89 88 87 86 85 84 83 82 81 80 79 78 77 76 75 74 73 72 71 70 69 68 67 66 65 64 63 62 61 60 59 58 57 56 55 54 53 52 51 50 49 48 47 46 45 44 43 42 41 40 39 38 37 36 35 34 33 32 31 30 29 28 27 26 25 24 23 22 21 20 19 18 17 16 15 14 13 12 11 10 9 8 7 6 5 4 3 2 1 0 "
          ]
        }
      ]
    },
    {
      "cell_type": "markdown",
      "metadata": {
        "id": "AZXfFd1jF1M2"
      },
      "source": [
        "Es importante asegurarse que en algún momento la expresión condicional se vuelva falsa, de lo contrario el programa quedará estancado en un bucle sin fin. En el ejemplo anterior tomamos esa precaución, incrementado el valor de la variable contador en cada pasada. <p>\n",
        "asignación aumentada <p>\n",
        "Es frecuente que una variable tenga que ser redefinida en función de sí misma, como en el ejemplo anterior, donde a la variable contador se le sumaba 1 en cada pasada. En vez de escribir <p>\n",
        "contador = contador + 1 <p>\n",
        "se puede abreviar a su equivalente <p>\n",
        "contador += 1 <p>\n",
        "que no sólo es más corto de escribir, sino también más eficiente.\n",
        "Existe en Python todo un conjunto de operadores de este tipo, llamados de asignación aumentada, entre los que podemos mencionar: <p>\n",
        "X += Y ( X = X + Y ) <p>\n",
        "X −= Y ( X = X - Y ) <p>\n",
        "X *= Y ( X = X * Y ) <p>\n",
        "X **= Y ( X = X ** Y ) <p>\n",
        "X /= Y ( X = X / Y ) <p>\n",
        "X //= Y ( X = X // Y ) <p>\n",
        "X %= Y ( X = X % Y ) <p>\n",
        "while - else <p>\n",
        "Al igual que la estructura if, la estructura while también puede combinarse con una instrucción else. El bloque de código a continuación de la instrucción else se ejecutará cuando la expresión condicional del while sea falsa. <p>\n",
        "El nombre de la instrucción es equívoco, ya que el bloque del else se ejecutará en todos los casos; tiene la ventaja de mantener el mismo nombre y la misma sintaxis que en las demás estructuras de control. <p>\n",
        "En el ejemplo anterior podemos agregar una instrucción else al final, que ejecutará el código siguiente cuando la condición del while sea falsa."
      ]
    },
    {
      "cell_type": "code",
      "metadata": {
        "id": "gqN5d3qw-DZn",
        "colab": {
          "base_uri": "https://localhost:8080/"
        },
        "outputId": "5fc7c09b-bbd7-4567-e85a-715bdc4a428e"
      },
      "source": [
        "contador = 0\n",
        "while contador <= 5:\n",
        "  print(contador, end=' ')\n",
        "  contador +=1 # se incrementa el valor de la variable\n",
        "else:\n",
        "  print(\"\\n no se ejecuta el while, el contador es\", contador)"
      ],
      "execution_count": null,
      "outputs": [
        {
          "output_type": "stream",
          "name": "stdout",
          "text": [
            "0 1 2 3 4 5 \n",
            "no se ejecuta el while, el contador es 6\n"
          ]
        }
      ]
    },
    {
      "cell_type": "code",
      "metadata": {
        "id": "zoUT0WAsGbpo",
        "colab": {
          "base_uri": "https://localhost:8080/"
        },
        "outputId": "0e6310df-7dcb-4983-9eb9-ba4f78a1b618"
      },
      "source": [
        "contador = 0\n",
        "while contador <= 5:\n",
        "  print(contador, end='\\n')\n",
        "  contador +=1 # se incrementa el valor de la variable\n",
        "else:\n",
        "  print(\"\\nno se ejecuta el while, el contador es\", contador)"
      ],
      "execution_count": null,
      "outputs": [
        {
          "output_type": "stream",
          "name": "stdout",
          "text": [
            "0\n",
            "1\n",
            "2\n",
            "3\n",
            "4\n",
            "5\n",
            "\n",
            "no se ejecuta el while, el contador es 6\n"
          ]
        }
      ]
    },
    {
      "cell_type": "markdown",
      "metadata": {
        "id": "1lpvGCLN_e6q"
      },
      "source": [
        "Ejercicio de clase\n",
        "\n",
        "Crea un codigo con while e if. <p>\n",
        "Que imprima del 0 al 100 solo los pares usando if dentro del while"
      ]
    },
    {
      "cell_type": "code",
      "metadata": {
        "id": "YQYawjxyAokw",
        "colab": {
          "base_uri": "https://localhost:8080/"
        },
        "outputId": "19120adf-c92a-408d-b21b-bd4be0970339"
      },
      "source": [
        "contador = 0\n",
        "maximo = 100\n",
        "while contador <= maximo:\n",
        "  if  contador%2 == 0:\n",
        "    print(contador, end=' ')\n",
        "  contador += 1 # se incrementa el valor de la variable"
      ],
      "execution_count": null,
      "outputs": [
        {
          "output_type": "stream",
          "name": "stdout",
          "text": [
            "0 2 4 6 8 10 12 14 16 18 20 22 24 26 28 30 32 34 36 38 40 42 44 46 48 50 52 54 56 58 60 62 64 66 68 70 72 74 76 78 80 82 84 86 88 90 92 94 96 98 100 "
          ]
        }
      ]
    },
    {
      "cell_type": "markdown",
      "metadata": {
        "id": "L7Atp_JbGwfE"
      },
      "source": [
        "<h4>Ejemplo 3.2</h4>"
      ]
    },
    {
      "cell_type": "code",
      "metadata": {
        "id": "6z7_wRznG3go",
        "colab": {
          "base_uri": "https://localhost:8080/"
        },
        "outputId": "a0e6ba59-1964-4971-c764-bde417a2fef7"
      },
      "source": [
        "def fib(n):\n",
        "  \"\"\"Imprime una serie de Fibonacci hasta el número n.\"\"\"\n",
        "  a, b = 0, 1\n",
        "  while a < n:\n",
        "    print(a, end=' ')\n",
        "    a, b = b, a+b\n",
        "print() # imprime un salto de línea cuando termina\n",
        "fib(1000)"
      ],
      "execution_count": null,
      "outputs": [
        {
          "output_type": "stream",
          "name": "stdout",
          "text": [
            "\n",
            "0 1 1 2 3 5 8 13 21 34 55 89 144 233 377 610 987 "
          ]
        }
      ]
    },
    {
      "cell_type": "markdown",
      "metadata": {
        "id": "4PtnDm9wHKnU"
      },
      "source": [
        "<h4> for </h4>\n",
        "\n",
        "La instrucción for implementa un bucle, recorriendo ordenadamente una secuencia, o cualquier otro objeto iterable. <p>\n",
        "La sintaxis básica es la siguiente: <p>\n",
        "for i in s: <p>\n",
        "<pre>  bloque de código </pre>\n",
        "s puede ser cualquier objeto iterable, como una lista, una cadena de caracteres, u otros. <p>\n",
        "cada ítem de s es asignado, por orden, a la variable i, y se ejecuta el bloque de código. <p>\n",
        "es habitual que el bloque de código utilice la variable i, con diferente resultado para cada ítem del objeto s. <p>\n",
        "la estructura for concluye cuando se termina de recorrer todos los elementos de s."
      ]
    },
    {
      "cell_type": "code",
      "metadata": {
        "id": "Wgif9lN3HJl9",
        "colab": {
          "base_uri": "https://localhost:8080/"
        },
        "outputId": "aa329690-9a3b-45c3-a9e9-b4198d5223a7"
      },
      "source": [
        "for item in [9, 7, 13, 22]:\n",
        "  print(item)"
      ],
      "execution_count": null,
      "outputs": [
        {
          "output_type": "stream",
          "name": "stdout",
          "text": [
            "9\n",
            "7\n",
            "13\n",
            "22\n"
          ]
        }
      ]
    },
    {
      "cell_type": "code",
      "metadata": {
        "id": "2YIGFeQEHoOz",
        "colab": {
          "base_uri": "https://localhost:8080/",
          "height": 35
        },
        "outputId": "85b3e80b-329d-4557-8113-9ed2a0acf9cd"
      },
      "source": [
        "for letra in \"hola\":\n",
        "  print(letra*5, end='')"
      ],
      "execution_count": null,
      "outputs": [
        {
          "output_type": "stream",
          "text": [
            "hhhhhooooolllllaaaaa"
          ],
          "name": "stdout"
        }
      ]
    },
    {
      "cell_type": "markdown",
      "metadata": {
        "id": "FDSgVn3YHuKn"
      },
      "source": [
        "<h4> for - else </h4>\n",
        "\n",
        "Al igual que en las estructuras de bucle creadas con la instrucción while, acá se puede utilizar la instrucción else para ejecutar un bloque de código una vez que se haya terminado la iteración."
      ]
    },
    {
      "cell_type": "code",
      "metadata": {
        "id": "YvnjjZzMH1qO",
        "colab": {
          "base_uri": "https://localhost:8080/"
        },
        "outputId": "5a03bf37-a270-4775-c671-550687b955e2"
      },
      "source": [
        "frutas_en_la_heladera = ['una manzana', 'dos naranjas', 'un durazno']\n",
        "for i in frutas_en_la_heladera:\n",
        "  print(\"como\", i)\n",
        "else:\n",
        "  print(\"se terminaron las frutas...\")"
      ],
      "execution_count": null,
      "outputs": [
        {
          "output_type": "stream",
          "name": "stdout",
          "text": [
            "como una manzana\n",
            "como dos naranjas\n",
            "como un durazno\n",
            "se terminaron las frutas...\n"
          ]
        }
      ]
    },
    {
      "cell_type": "markdown",
      "metadata": {
        "id": "ZQrHwek1IB59"
      },
      "source": [
        "<h4> range() </h4>\n",
        "\n",
        "En las estructuras for es frecuente utilizar la función range(), que genera una secuencia de valores enteros entre un valor inicial y un límite superior (sin uncluirlo), con un determinado incremento. <p>\n",
        "Su sintaxis completa es: <p>\n",
        "range(valor_inicial, limite_superior, incremento) <p>\n",
        "por defecto, el incremento es 1. <p>\n",
        "si se pasa un solo argumento, se considera como el límite superior, siendo el valor inicial cero. <p>\n",
        "Por lo tanto, range(10) equivale a range(0, 10, 1)."
      ]
    },
    {
      "cell_type": "code",
      "metadata": {
        "id": "lv9QwqooIN3l",
        "colab": {
          "base_uri": "https://localhost:8080/"
        },
        "outputId": "526372e9-d645-4a2f-d442-994bc97a1041"
      },
      "source": [
        "for i in range(5): # de 0 a 5 (excluyente), con incremento 1\n",
        "  print(i, end=' ')"
      ],
      "execution_count": null,
      "outputs": [
        {
          "output_type": "stream",
          "name": "stdout",
          "text": [
            "0 1 2 3 4 "
          ]
        }
      ]
    },
    {
      "cell_type": "code",
      "metadata": {
        "id": "yWgljB9vIRkt",
        "colab": {
          "base_uri": "https://localhost:8080/",
          "height": 35
        },
        "outputId": "adb32e9f-3ed5-421b-c0e0-8a13dffd93c8"
      },
      "source": [
        "for i in range(5,10): # de 5 a 10 (excluyente), con incremento 1\n",
        "  print(i, end=' ')"
      ],
      "execution_count": null,
      "outputs": [
        {
          "output_type": "stream",
          "text": [
            "5 6 7 8 9 "
          ],
          "name": "stdout"
        }
      ]
    },
    {
      "cell_type": "code",
      "metadata": {
        "id": "TyNIAwPoIVOF",
        "colab": {
          "base_uri": "https://localhost:8080/"
        },
        "outputId": "fafc148b-7444-4f26-9ae3-47698f6b6b06"
      },
      "source": [
        "for i in range(0,20,4): # de 0 a 20 (excluyente), con incremento 5\n",
        "  print(i, end=' ')"
      ],
      "execution_count": null,
      "outputs": [
        {
          "output_type": "stream",
          "name": "stdout",
          "text": [
            "0 4 8 12 16 "
          ]
        }
      ]
    },
    {
      "cell_type": "markdown",
      "metadata": {
        "id": "Uky4FPGiIYsl"
      },
      "source": [
        "<h4> list() </h4>\n",
        "\n",
        "Aunque tiene la forma de una función, list() es un constructor, que crea una lista a partir de un objeto iterable. <p>\n",
        "Si el objeto ya es una lista, simplemente se crea una copia. <p>\n",
        "Pero puede ser otro tipo de secuencia, como una cadena str, o una secuencia generada por la función range()."
      ]
    },
    {
      "cell_type": "code",
      "metadata": {
        "id": "k89CD_sfIh1V",
        "colab": {
          "base_uri": "https://localhost:8080/",
          "height": 35
        },
        "outputId": "dc39cb59-d209-4db5-b77b-b4fa52e3890a"
      },
      "source": [
        "b = list(\"¡hola!\")\n",
        "print(b)"
      ],
      "execution_count": null,
      "outputs": [
        {
          "output_type": "stream",
          "text": [
            "['¡', 'h', 'o', 'l', 'a', '!']\n"
          ],
          "name": "stdout"
        }
      ]
    },
    {
      "cell_type": "code",
      "metadata": {
        "id": "0lsVwI-RIkz_",
        "colab": {
          "base_uri": "https://localhost:8080/"
        },
        "outputId": "052347ca-a1e4-4196-96da-b772cd8478cd"
      },
      "source": [
        "a = list(range(5, -5, -1))\n",
        "print(a)"
      ],
      "execution_count": null,
      "outputs": [
        {
          "output_type": "stream",
          "name": "stdout",
          "text": [
            "[5, 4, 3, 2, 1, 0, -1, -2, -3, -4]\n"
          ]
        }
      ]
    },
    {
      "cell_type": "markdown",
      "metadata": {
        "id": "MkQcgScJI2i5"
      },
      "source": [
        "<h4> Ejercicio 3.1 </h4>\n",
        "\n",
        "Ampliar el programa del Ejercicio 1.1 (clase 1), de modo de que calcule el factor de multiplicación y la frecuencia resultante para todos los grados de la escala. <p>\n",
        "Para cada grado se debe imprimir en pantalla: <p>\n",
        "el número de grado (empezando en 0) <p>\n",
        "el factor de multiplicación, redondeado a cuatro dígitos después de la coma <p>\n",
        "el valor en frecuencia, redondeado a dos dígitos después de la coma <p>\n",
        "Las tres columnas deben estar alineadas por tabuladores. <p>\n",
        "Ejemplo de ejecución del programa, para división en 12 de la octava, frecuencia de referencia 440: <p>\n",
        "ingrese la cantidad de grados a dividir la \"octava\": 12 <p>\n",
        "ingrese la relación de frecuencia correspondiente a la \"octava\": 2 <p>\n",
        "ingrese la frecuencia base en Hz: 440 <p>\n",
        "cociente: 1.0594630943592953 <p>\n",
        "0 1.0000 440.00 <p>\n",
        "1 1.0595 466.16 <p>\n",
        "2 1.1225 493.88 <p>\n",
        "3 1.1892 523.25 <p>\n",
        "4 1.2599 554.37 <p>\n",
        "5 1.3348 587.33 <p>\n",
        "6 1.4142 622.25 <p>\n",
        "7 1.4983 659.26 <p>\n",
        "8 1.5874 698.46 <p>\n",
        "9 1.6818 739.99 <p>\n",
        "10 1.7818 783.99 <p>\n",
        "11 1.8877 830.61 <p>\n",
        "12 2.0000 880.00 <p>\n",
        "<h4> Ejercicio 3.2 </h4>\n",
        "\n",
        "Escribir un programa que, partiendo del armónico 8, calcule el factor de multiplicación hasta el armónico 16. <p>\n",
        "El programa debe preguntar una frecuencia de referencia (que se asociará al armónico 8), y para cada armónico se debe imprimir en pantalla:\n",
        "el número de armónico <p>\n",
        "el factor de multiplicación, redondeado a tres dígitos después de la coma\n",
        "el valor en frecuencia, redondeado a un dígito después de la coma\n",
        "Las tres columnas deben estar alineadas por tabuladores. <p>\n",
        "Ejemplo de ejecución del programa, para frecuencia de referencia 440:\n",
        "ingrese la frecuencia base en Hz: 440 <p>\n",
        "8 1.000 440.0 <p>\n",
        "9 1.125 495.0 <p>\n",
        "10 1.250 550.0 <p>\n",
        "11 1.375 605.0 <p>\n",
        "12 1.500 660.0 <p>\n",
        "13 1.625 715.0 <p>\n",
        "14 1.750 770.0 <p>\n",
        "15 1.875 825.0 <p>\n",
        "16 2.000 880.0"
      ]
    }
  ]
}