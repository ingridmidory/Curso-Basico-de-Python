{
  "nbformat": 4,
  "nbformat_minor": 0,
  "metadata": {
    "colab": {
      "provenance": [],
      "authorship_tag": "ABX9TyNHvWodAuBw8+gjKmFYQy5Y",
      "include_colab_link": true
    },
    "kernelspec": {
      "name": "python3",
      "display_name": "Python 3"
    },
    "language_info": {
      "name": "python"
    }
  },
  "cells": [
    {
      "cell_type": "markdown",
      "metadata": {
        "id": "view-in-github",
        "colab_type": "text"
      },
      "source": [
        "<a href=\"https://colab.research.google.com/github/ingridmidory/Curso-Basico-de-Python/blob/main/05_Funciones_de_Python.ipynb\" target=\"_parent\"><img src=\"https://colab.research.google.com/assets/colab-badge.svg\" alt=\"Open In Colab\"/></a>"
      ]
    },
    {
      "cell_type": "markdown",
      "source": [
        "#**Funciones de Python**"
      ],
      "metadata": {
        "id": "0VfwJwS0WOJf"
      }
    },
    {
      "cell_type": "markdown",
      "source": [
        "**Aspectos básicos de las funciones de Python**\n",
        "\n",
        "\n",
        "Las funciones son el siguiente paso después de haber aprendido los conceptos básicos de programación de Python. En su forma más sencilla, una función contiene código que siempre devuelve un valor (o valores). En algunos casos, una función también tiene entradas opcionales u obligatorias.\n",
        "\n",
        "Cuando empieza a escribir código que duplica otras partes del programa, es una oportunidad perfecta para extraer el código en una función. Aunque compartir código común por medio de funciones es útil, también se puede limitar el tamaño del código extrayendo partes en funciones más pequeñas (y más fáciles de leer).\n",
        "\n",
        "Los programas que evitan la duplicación y evitan funciones de gran tamaño mediante funciones más pequeñas son más legibles y fáciles de mantener. También son más fáciles de depurar cuando algo no funciona correctamente.\n",
        "\n",
        "Hay varias reglas sobre las entradas de funciones que son fundamentales para aprovechar al máximo todo lo que las funciones tienen que ofrecer."
      ],
      "metadata": {
        "id": "vPYr1HmTW_YA"
      }
    },
    {
      "cell_type": "markdown",
      "source": [
        "Importante\n",
        "\n",
        "Aunque se usa el término entrada para describir las funciones que se aceptan, estos elementos normalmente se denominan argumentos o parámetros. Para mantener la coherencia en este módulo, a las entradas las denominaremos argumentos."
      ],
      "metadata": {
        "id": "aqNSVqnDXFsP"
      }
    },
    {
      "cell_type": "markdown",
      "source": [
        "**Funciones sin argumentos**\n",
        "\n",
        "Para crear una función, use la palabra clave `def`, seguida de un nombre, paréntesis y, después, del cuerpo con el código de función:"
      ],
      "metadata": {
        "id": "P1ld_iZjXLLE"
      }
    },
    {
      "cell_type": "code",
      "source": [
        "def rocket_parts():\n",
        "    print(\"payload, propellant, structure\")"
      ],
      "metadata": {
        "id": "3-AMtVujXOWY"
      },
      "execution_count": null,
      "outputs": []
    },
    {
      "cell_type": "markdown",
      "source": [
        "En este caso, `rocket_parts` es el nombre de la función. Ese nombre va seguido de paréntesis vacíos, que indican que no se necesitan argumentos. El último es el código, con sangría de cuatro espacios. Para usar la función, debe llamarla por su nombre usando paréntesis:"
      ],
      "metadata": {
        "id": "TPnTJYU4XQsm"
      }
    },
    {
      "cell_type": "code",
      "source": [
        "rocket_parts()"
      ],
      "metadata": {
        "id": "YusHgObeXZXE"
      },
      "execution_count": null,
      "outputs": []
    },
    {
      "cell_type": "markdown",
      "source": [
        "La función `rocket_parts()` no toma ningún argumento e imprime una instrucción. Si necesita usar un valor que devuelve una función, puede asignar la salida de la función a una variable:"
      ],
      "metadata": {
        "id": "3QK9XT6yXT3s"
      }
    },
    {
      "cell_type": "code",
      "source": [
        "output = rocket_parts()"
      ],
      "metadata": {
        "id": "W6PQJaKRXWGR"
      },
      "execution_count": null,
      "outputs": []
    },
    {
      "cell_type": "code",
      "source": [
        "output is None"
      ],
      "metadata": {
        "id": "8BTHsbHxXeft"
      },
      "execution_count": null,
      "outputs": []
    },
    {
      "cell_type": "markdown",
      "source": [
        "Puede parecer sorprendente que el valor de la variable `output` sea `None`. Esto se debe a que la función `rocket_parts()` no ha devuelto explícitamente un valor. En Python, si una función no devuelve explícitamente un valor, devuelve implícitamente `None`. Actualizar la función para devolver la cadena en lugar de imprimirla hace que la variable `output` tenga un valor distinto:"
      ],
      "metadata": {
        "id": "d_S8sfvnXhGB"
      }
    },
    {
      "cell_type": "code",
      "source": [
        "def rocket_parts():\n",
        "    return \"payload, propellant, structure\"\n",
        "output = rocket_parts()\n",
        "output"
      ],
      "metadata": {
        "id": "uN2GVAVxXJ_s"
      },
      "execution_count": null,
      "outputs": []
    },
    {
      "cell_type": "markdown",
      "source": [
        "Si necesita usar el valor de una función, esa función debe devolver explícitamente. En caso contrario, devuelve `None`.\n",
        "\n"
      ],
      "metadata": {
        "id": "bor0iQXfXkq-"
      }
    },
    {
      "cell_type": "markdown",
      "source": [
        " Nota\n",
        "\n",
        "No es necesario asignar siempre la devolución de una función. En la mayoría de los casos en los que una función no devuelve un valor (o valores) explícitamente, significa que no es necesario asignar ni usar el valor implícito `None` que se devuelve."
      ],
      "metadata": {
        "id": "uCmrVgi3Xl98"
      }
    },
    {
      "cell_type": "markdown",
      "source": [
        "**Argumentos opcionales y requeridos**\n",
        "\n",
        "En Python, varias funciones integradas requieren argumentos. Algunas funciones integradas hacen que los argumentos sean opcionales. Las funciones integradas están disponibles de inmediato, por lo que no es necesario importarlas explícitamente.\n",
        "\n",
        "Un ejemplo de una función integrada que requiere un argumento es `any()`. Esta función toma un objeto iterable (por ejemplo, una lista) y devuelve `True` si algún elemento del objeto iterable es True. De lo contrario, devuelve `False`."
      ],
      "metadata": {
        "id": "l5prBQjeXnvC"
      }
    },
    {
      "cell_type": "code",
      "source": [
        "any([True, False, False])"
      ],
      "metadata": {
        "id": "2gibgGGmXqpB"
      },
      "execution_count": null,
      "outputs": []
    },
    {
      "cell_type": "code",
      "source": [
        "any([False, False, False])"
      ],
      "metadata": {
        "id": "DJg9yU2RXsWC"
      },
      "execution_count": null,
      "outputs": []
    },
    {
      "cell_type": "markdown",
      "source": [
        "Si llama a `any()` sin ningún argumento, se genera una excepción útil. El mensaje de error explica que necesita al menos un argumento:"
      ],
      "metadata": {
        "id": "F_RP0nAfXulW"
      }
    },
    {
      "cell_type": "code",
      "source": [
        "any()"
      ],
      "metadata": {
        "id": "h9zifjlvXvs6"
      },
      "execution_count": null,
      "outputs": []
    },
    {
      "cell_type": "markdown",
      "source": [
        "Puede comprobar que algunas funciones permiten el uso de argumentos opcionales mediante otra función integrada denominada str(). Esta función crea una cadena a partir de un argumento. Si no se pasa ningún argumento, devuelve una cadena vacía:\n",
        "\n",
        "```\n",
        "# Esto tiene formato de código\n",
        "```\n",
        "\n"
      ],
      "metadata": {
        "id": "218QRN-yXx_U"
      }
    },
    {
      "cell_type": "code",
      "source": [
        "str()"
      ],
      "metadata": {
        "id": "GyXPBB_7Xy9g"
      },
      "execution_count": null,
      "outputs": []
    },
    {
      "cell_type": "code",
      "source": [
        "str(15)"
      ],
      "metadata": {
        "id": "EWY3dh8pX9EB"
      },
      "execution_count": null,
      "outputs": []
    },
    {
      "cell_type": "markdown",
      "source": [
        "# **Uso de argumentos de función en Python**\n",
        "\n",
        "\n",
        "Ahora que sabes cómo crear una función sin entradas, el paso siguiente es crear funciones que requieran un argumento. El uso de argumentos hace que las funciones sean más flexibles, ya que pueden hacer más y condicionalizar lo que hacen.\n",
        "\n"
      ],
      "metadata": {
        "id": "SJdyxhYIX-v1"
      }
    },
    {
      "cell_type": "markdown",
      "source": [
        "**Exigencia de un argumento**\n",
        "\n",
        "\n",
        "Si va a pilotar un cohete, una función sin entradas obligatorias es como un equipo con un botón que le indique la hora. Si presiona el botón, una voz computarizada le indica la hora. Pero una entrada necesaria puede ser un destino para calcular la distancia del viaje. Las entradas obligatorias se denominan argumentos para la función.\n",
        "\n",
        "Para requerir un argumento, póngalo entre paréntesis:"
      ],
      "metadata": {
        "id": "xVsODRFkZ9iY"
      }
    },
    {
      "cell_type": "markdown",
      "source": [
        "![download.jpg](data:image/jpeg;base64,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)"
      ],
      "metadata": {
        "id": "m4VJ_pWlaKcW"
      }
    },
    {
      "cell_type": "code",
      "source": [
        "def distance_from_earth(destination):\n",
        "    if destination == \"Moon\":\n",
        "        return \"238,855\"\n",
        "    else:\n",
        "        return \"Unable to compute to that destination\""
      ],
      "metadata": {
        "id": "2wjmaX--YHn0"
      },
      "execution_count": null,
      "outputs": []
    },
    {
      "cell_type": "markdown",
      "source": [
        "Intente llamar a la función `distance_from_earth()` sin ningún argumento:"
      ],
      "metadata": {
        "id": "eHIQmCTVYJzO"
      }
    },
    {
      "cell_type": "code",
      "source": [
        "distance_from_earth()"
      ],
      "metadata": {
        "id": "Bnz_RoYmYK-8"
      },
      "execution_count": null,
      "outputs": []
    },
    {
      "cell_type": "markdown",
      "source": [
        "Python genera `TypeError` con un mensaje de error que indica que la función requiere un argumento denominado `destination`. Si se pide al equipo del cohete que calcule la distancia del viaje con un destino, debe solicitar que un destino es un requisito. El código de ejemplo tiene dos rutas de acceso para una respuesta, una para la Luna y la otra para cualquier otra cosa. Use la Luna como entrada para obtener una respuesta:"
      ],
      "metadata": {
        "id": "MrM2v0u6YNGU"
      }
    },
    {
      "cell_type": "code",
      "source": [
        "distance_from_earth(\"Moon\")"
      ],
      "metadata": {
        "id": "Wp3U7u9WYOYy"
      },
      "execution_count": null,
      "outputs": []
    },
    {
      "cell_type": "markdown",
      "source": [
        "Dado que hay una condición *catch-all*, intente usar cualquier otra cadena como destino para comprobar ese comportamiento:"
      ],
      "metadata": {
        "id": "2udqF9P_YQOO"
      }
    },
    {
      "cell_type": "code",
      "source": [
        "distance_from_earth(\"Saturn\")"
      ],
      "metadata": {
        "id": "durScazaYRJQ"
      },
      "execution_count": null,
      "outputs": []
    },
    {
      "cell_type": "markdown",
      "source": [
        "**Varios argumentos necesarios**\n",
        "\n",
        "Para usar varios argumentos, debe separarlos con una coma. Vamos a crear una función que pueda calcular cuántos días se tardan en llegar a un destino, dadas la distancia y una velocidad constante:"
      ],
      "metadata": {
        "id": "9VrmPfMhYSio"
      }
    },
    {
      "cell_type": "code",
      "source": [
        "def days_to_complete(distance, speed):\n",
        "    hours = distance/speed\n",
        "    return hours/24"
      ],
      "metadata": {
        "id": "Y8-SaivkYWp_"
      },
      "execution_count": null,
      "outputs": []
    },
    {
      "cell_type": "markdown",
      "source": [
        "Ahora use la distancia entre la Tierra y la Luna para calcular cuántos días tardaría en llegar a la Luna con un límite de velocidad de 120 kilómetros por hora:"
      ],
      "metadata": {
        "id": "mwxH6jW_YY-W"
      }
    },
    {
      "cell_type": "code",
      "source": [
        "days_to_complete(238855, 75)"
      ],
      "metadata": {
        "id": "2h-iFkkkYaAS"
      },
      "execution_count": null,
      "outputs": []
    },
    {
      "cell_type": "markdown",
      "source": [
        "**Funciones como argumentos**\n",
        "\n",
        "Puede usar el valor de la función `days_to_complete()` y asignarlo a una variable y, después, pasarlo a `round()` (una función integrada que redondea al número entero más cercano) para obtener un número entero:"
      ],
      "metadata": {
        "id": "OzQtbnHQYbeC"
      }
    },
    {
      "cell_type": "code",
      "source": [
        "total_days = days_to_complete(238855, 75)\n",
        "round(total_days)"
      ],
      "metadata": {
        "id": "Sne4qf8SYe_e"
      },
      "execution_count": null,
      "outputs": []
    },
    {
      "cell_type": "markdown",
      "source": [
        "Pero un patrón útil es pasar funciones a otras funciones en lugar de asignar el valor devuelto:"
      ],
      "metadata": {
        "id": "wbm0tkumYgvt"
      }
    },
    {
      "cell_type": "code",
      "source": [
        "round(days_to_complete(238855, 75))"
      ],
      "metadata": {
        "id": "vYQKo6GBYiJw"
      },
      "execution_count": null,
      "outputs": []
    },
    {
      "cell_type": "markdown",
      "source": [
        "# **Ejercicio 1**"
      ],
      "metadata": {
        "id": "hV2ylNyHYmGx"
      }
    },
    {
      "cell_type": "markdown",
      "source": [
        "# **Uso de argumentos de palabra clave en Python**\n",
        "\n",
        "Los argumentos opcionales requieren un valor predeterminado asignado a ellos. Estos argumentos con nombre se denominan argumentos de palabra clave. Los valores del argumento de palabra clave deben definirse en las propias funciones. Cuando se llama a una función definida con argumentos de palabra clave, no es necesario usarlos en absoluto.\n",
        "\n",
        "La misión Apolo 11 tardó unas 51 horas en llegar a la Luna. Vamos a crear una función que devuelva la hora estimada de llegada usando el mismo valor que la misión Apolo 11 como valor predeterminado:"
      ],
      "metadata": {
        "id": "mN4L7d3bZNMW"
      }
    },
    {
      "cell_type": "markdown",
      "source": [
        "![download.jpg](data:image/jpeg;base64,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)\n",
        "\n",
        "\n",
        "*Apolo 11*"
      ],
      "metadata": {
        "id": "7ysQfbTTayCr"
      }
    },
    {
      "cell_type": "code",
      "source": [
        "from datetime import timedelta, datetime\n",
        "\n",
        "def arrival_time(hours=51):\n",
        "    now = datetime.now()\n",
        "    arrival = now + timedelta(hours=hours)\n",
        "    return arrival.strftime(\"Arrival: %A %H:%M\")"
      ],
      "metadata": {
        "id": "JAWkyOpwZUlz"
      },
      "execution_count": null,
      "outputs": []
    },
    {
      "cell_type": "markdown",
      "source": [
        "La función usa el módulo `datetime` para definir la hora actual. Usa `timedelta` para permitir la operación de suma que da como resultado un objeto de hora nuevo. Después de calcular ese resultado, devuelve la estimación `arrival` con formato de cadena. Intente llamarla sin ningún argumento:"
      ],
      "metadata": {
        "id": "3Q2Y8Lg3ZXW7"
      }
    },
    {
      "cell_type": "code",
      "source": [
        "arrival_time()"
      ],
      "metadata": {
        "id": "jN6NWU3VZYl6"
      },
      "execution_count": null,
      "outputs": []
    },
    {
      "cell_type": "markdown",
      "source": [
        "Aunque la función define un argumento de palabra clave, no permite pasar uno cuando se llama a una función. En este caso, la variable `hours` tiene como valor predeterminado `51`. Para comprobar que la fecha actual es correcta, use `0` como valor para `hours`:"
      ],
      "metadata": {
        "id": "uDzgoXgra9jy"
      }
    },
    {
      "cell_type": "code",
      "source": [
        "arrival_time(hours=0)\n"
      ],
      "metadata": {
        "id": "YGQsfu5gbCLv"
      },
      "execution_count": null,
      "outputs": []
    },
    {
      "cell_type": "markdown",
      "source": [
        "# Combinación de argumentos y argumentos de palabra clave\n",
        "\n",
        "A veces, una función necesita una combinación de argumentos de palabra clave y argumentos. En Python, esta combinación sigue un orden específico. Los argumentos siempre se declaran primero, seguidos de argumentos de palabra clave.\n",
        "\n",
        "Actualice la función `arrival_time()` para que tome un argumento necesario, que es el nombre del destino:"
      ],
      "metadata": {
        "id": "Ke_vS75ibEDe"
      }
    },
    {
      "cell_type": "code",
      "source": [
        "from datetime import timedelta, datetime\n",
        "\n",
        "def arrival_time(destination, hours=51):\n",
        "    now = datetime.now()\n",
        "    arrival = now + timedelta(hours=hours)\n",
        "    return arrival.strftime(f\"{destination} Arrival: %A %H:%M\")"
      ],
      "metadata": {
        "id": "JxKKtKRdbJ9f"
      },
      "execution_count": null,
      "outputs": []
    },
    {
      "cell_type": "markdown",
      "source": [
        "Dado que ha agregado un argumento necesario, ya no es posible llamar a la función sin ningún argumento:"
      ],
      "metadata": {
        "id": "IJJIkaCybKrU"
      }
    },
    {
      "cell_type": "code",
      "source": [
        "arrival_time()"
      ],
      "metadata": {
        "id": "qpnStVgNbME5"
      },
      "execution_count": null,
      "outputs": []
    },
    {
      "cell_type": "markdown",
      "source": [
        "Use `\"Moon\"` como valor para destination a fin de evitar el error:"
      ],
      "metadata": {
        "id": "4NW_QKOWbOMz"
      }
    },
    {
      "cell_type": "code",
      "source": [
        "arrival_time(\"Moon\")"
      ],
      "metadata": {
        "id": "IEVinahTbQfx"
      },
      "execution_count": null,
      "outputs": []
    },
    {
      "cell_type": "markdown",
      "source": [
        "También puede pasar más de dos valores, pero debe separarlos con una coma. Se tarda aproximadamente 8 minutos (0,13 horas) en entrar en órbita, así que utilice eso como argumento:"
      ],
      "metadata": {
        "id": "NA-kn9MgbSn5"
      }
    },
    {
      "cell_type": "code",
      "source": [
        "arrival_time(\"Orbit\", hours=0.13)"
      ],
      "metadata": {
        "id": "yFqOOHlRbTk5"
      },
      "execution_count": null,
      "outputs": []
    },
    {
      "cell_type": "markdown",
      "source": [
        "# **Uso de argumentos de variable en Python**\n",
        "\n",
        "En Python, puede usar cualquier número de argumentos de palabra clave y argumentos sin necesidad de declarar cada uno de ellos. Esta capacidad es útil cuando una función puede obtener un número desconocido de entradas."
      ],
      "metadata": {
        "id": "4Vi0vCWCbZSd"
      }
    },
    {
      "cell_type": "markdown",
      "source": [
        "**Argumentos de variable**\n",
        "\n",
        "Los argumentos en las funciones son necesarios. Pero cuando se usan argumentos de variable, la función permite pasar cualquier número de argumentos `(incluido 0)`. La sintaxis para usar argumentos de variable es agregar un asterisco único como prefijo `(*)` antes del nombre del argumento.\n",
        "\n",
        "La función siguiente imprime los argumentos recibidos:"
      ],
      "metadata": {
        "id": "8JHiKxR5cioo"
      }
    },
    {
      "cell_type": "code",
      "source": [
        "def variable_length(*args):\n",
        "    print(args)"
      ],
      "metadata": {
        "id": "pxDmOdCqcomi"
      },
      "execution_count": null,
      "outputs": []
    },
    {
      "cell_type": "markdown",
      "source": [
        " Nota\n",
        "\n",
        "No es necesario denominar a los argumentos de variable args. Puede usar cualquier nombre de variable válido. Aunque es habitual ver *args o *a, debe intentar usar la misma convención en un proyecto."
      ],
      "metadata": {
        "id": "pH1aOO0tcq2z"
      }
    },
    {
      "cell_type": "markdown",
      "source": [
        "En este caso, `*args` indica a la función que acepte cualquier número de argumentos `(incluido 0)`. En la función, `args` ahora está disponible como la variable que contiene todos los argumentos como una tupla. Pruebe la función pasando cualquier número o tipo de argumentos:\n",
        "\n",
        "\n",
        "\n",
        "\n",
        "\n",
        "\n"
      ],
      "metadata": {
        "id": "qIn70wuzcszd"
      }
    },
    {
      "cell_type": "code",
      "source": [
        "variable_length()\n",
        "()\n",
        "variable_length(\"one\", \"two\")\n",
        "('one', 'two')\n",
        "variable_length(None)\n",
        "(None,)"
      ],
      "metadata": {
        "id": "I8a67Xofc5q4"
      },
      "execution_count": null,
      "outputs": []
    },
    {
      "cell_type": "markdown",
      "source": [
        "Como puede ver, no hay ninguna restricción en el número o tipo de argumentos que se pasan.\n",
        "\n",
        "Un cohete realiza varios pasos antes de un lanzamiento. En función de las tareas o retrasos, estos pasos pueden tardar más de lo previsto. Vamos a crear una función de longitud variable que pueda calcular cuántos minutos quedan hasta el inicio, dado el tiempo que va a tardar cada paso:"
      ],
      "metadata": {
        "id": "OUj3nYz3c7rQ"
      }
    },
    {
      "cell_type": "code",
      "source": [
        "def sequence_time(*args):\n",
        "    total_minutes = sum(args)\n",
        "    if total_minutes < 60:\n",
        "        return f\"Total time to launch is {total_minutes} minutes\"\n",
        "    else:\n",
        "        return f\"Total time to launch is {total_minutes/60} hours\""
      ],
      "metadata": {
        "id": "paAuI_csc8fk"
      },
      "execution_count": null,
      "outputs": []
    },
    {
      "cell_type": "markdown",
      "source": [
        "Pruebe la función pasando cualquier número de minutos:"
      ],
      "metadata": {
        "id": "FnTUK0MOc910"
      }
    },
    {
      "cell_type": "code",
      "source": [
        "sequence_time(4, 14, 18)"
      ],
      "metadata": {
        "id": "GicBCecFdA_w"
      },
      "execution_count": null,
      "outputs": []
    },
    {
      "cell_type": "code",
      "source": [
        "sequence_time(4, 14, 48)"
      ],
      "metadata": {
        "id": "AHpVJ-lodCLE"
      },
      "execution_count": null,
      "outputs": []
    },
    {
      "cell_type": "markdown",
      "source": [
        " Nota\n",
        "\n",
        "Cuando se usan argumentos de variable, a cada valor ya no se le asigna un nombre de variable. Todos los valores ahora forman parte del nombre de variable catch-all que usa el asterisco (en estos ejemplos, `args`)."
      ],
      "metadata": {
        "id": "X3p_VTdydGIc"
      }
    },
    {
      "cell_type": "markdown",
      "source": [
        "**Argumentos de palabra clave variable**\n",
        "\n",
        "Para que una función acepte cualquier número de argumentos de palabra clave, debe usar una sintaxis similar. En este caso, se requiere un asterisco doble:"
      ],
      "metadata": {
        "id": "RK9A8ql3h7o3"
      }
    },
    {
      "cell_type": "code",
      "source": [
        "def variable_length(**kwargs):\n",
        "    print(kwargs)"
      ],
      "metadata": {
        "id": "4__EZ6JzdDYg"
      },
      "execution_count": null,
      "outputs": []
    },
    {
      "cell_type": "markdown",
      "source": [
        "Pruebe la función de ejemplo, que imprime los nombres y valores pasados como `kwargs`:"
      ],
      "metadata": {
        "id": "CBGA8O7LiE-G"
      }
    },
    {
      "cell_type": "code",
      "source": [
        "variable_length(tanks=1, day=\"Wednesday\", pilots=3)\n",
        "{'tanks': 1, 'day': 'Wednesday', 'pilots': 3}"
      ],
      "metadata": {
        "id": "BlohLbgriGzv"
      },
      "execution_count": null,
      "outputs": []
    },
    {
      "cell_type": "markdown",
      "source": [
        "Si ya conoce bien los diccionarios de Python, observará que los argumentos de palabra clave de longitud variable se asignan como un diccionario. Para interactuar con las variables y los valores, use las mismas operaciones que un diccionario."
      ],
      "metadata": {
        "id": "NmJdPi-GiJHr"
      }
    },
    {
      "cell_type": "markdown",
      "source": [
        " Nota\n",
        "\n",
        "Al igual que con los argumentos de variable, no es necesario usar `kwargs` cuando se usan argumentos de palabra clave variable. Puede usar cualquier nombre de variable válido. Aunque es habitual ver `**kwargs` o `**kw`, debe intentar usar la misma convención en un proyecto."
      ],
      "metadata": {
        "id": "vhbNeyzGiNkA"
      }
    },
    {
      "cell_type": "markdown",
      "source": [
        "En esta función, vamos a usar argumentos de palabra clave variable para notificar los astronautas asignados a la misión. Dado que esta función permite cualquier número de argumentos de palabra clave, se puede reutilizar independientemente del número de astronautas asignados:"
      ],
      "metadata": {
        "id": "ZgwTj58CiTj7"
      }
    },
    {
      "cell_type": "code",
      "source": [
        "def crew_members(**kwargs):\n",
        "    print(f\"{len(kwargs)} astronauts assigned for this mission:\")\n",
        "    for title, name in kwargs.items():\n",
        "        print(f\"{title}: {name}\")"
      ],
      "metadata": {
        "id": "Uxbqmf1liEJC"
      },
      "execution_count": null,
      "outputs": []
    },
    {
      "cell_type": "markdown",
      "source": [
        "Pruébalo con la tripulación del Apolo 11:"
      ],
      "metadata": {
        "id": "_N9JMuOLiWRX"
      }
    },
    {
      "cell_type": "code",
      "source": [
        "crew_members(captain=\"Neil Armstrong\", pilot=\"Buzz Aldrin\", command_pilot=\"Michael Collins\")\n",
        "3 astronauts assigned for this mission:\n",
        "captain: Neil Armstrong\n",
        "pilot: Buzz Aldrin\n",
        "command_pilot: Michael Collins"
      ],
      "metadata": {
        "id": "EMxjLZYniX6g"
      },
      "execution_count": null,
      "outputs": []
    },
    {
      "cell_type": "markdown",
      "source": [
        "Dado que puede pasar cualquier combinación de argumentos de palabra clave, asegúrese de evitar palabras clave repetidas. Las palabras clave repetidas producen un error:"
      ],
      "metadata": {
        "id": "XwfmSOVxiZo_"
      }
    },
    {
      "cell_type": "code",
      "source": [
        "crew_members(captain=\"Neil Armstrong\", pilot=\"Buzz Aldrin\", pilot=\"Michael Collins\")\n",
        "  File \"<stdin>\", line 1\n",
        "SyntaxError: keyword argument repeated: pilot"
      ],
      "metadata": {
        "id": "FetKM6LmiaoH"
      },
      "execution_count": null,
      "outputs": []
    },
    {
      "cell_type": "markdown",
      "source": [
        "# **Ejercicio 2**\n"
      ],
      "metadata": {
        "id": "KvJS4CupidIl"
      }
    },
    {
      "cell_type": "markdown",
      "source": [
        "# **Ejercicio 3**\n",
        "\n",
        "Realiza el siguiente Quiz:\n"
      ],
      "metadata": {
        "id": "CzkBZxvUigil"
      }
    },
    {
      "cell_type": "markdown",
      "source": [
        "![il_300x300.4659999225_p3db.webp](data:image/webp;base64,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)"
      ],
      "metadata": {
        "id": "0_-7Wr6OkBg9"
      }
    }
  ]
}