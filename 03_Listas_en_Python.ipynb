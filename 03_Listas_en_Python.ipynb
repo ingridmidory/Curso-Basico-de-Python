{
  "nbformat": 4,
  "nbformat_minor": 0,
  "metadata": {
    "colab": {
      "provenance": [],
      "include_colab_link": true
    },
    "kernelspec": {
      "name": "python3",
      "display_name": "Python 3"
    },
    "language_info": {
      "name": "python"
    }
  },
  "cells": [
    {
      "cell_type": "markdown",
      "metadata": {
        "id": "view-in-github",
        "colab_type": "text"
      },
      "source": [
        "<a href=\"https://colab.research.google.com/github/ingridmidory/Curso-Basico-de-Python/blob/main/03_Listas_en_Python.ipynb\" target=\"_parent\"><img src=\"https://colab.research.google.com/assets/colab-badge.svg\" alt=\"Open In Colab\"/></a>"
      ]
    },
    {
      "cell_type": "markdown",
      "source": [
        "#**Presentación de listas**\n",
        "\n",
        "Python tiene muchos tipos integrados, como cadenas y enteros. También tiene un tipo para almacenar una colección de valores: la lista."
      ],
      "metadata": {
        "id": "th6OORNADMCM"
      }
    },
    {
      "cell_type": "markdown",
      "source": [
        "**Crear una lista**\n",
        "\n",
        "Para crear una lista, asigne una secuencia de valores a una variable. Cada valor está separado por una coma y están entre corchetes `([])`. En el ejemplo siguiente se almacena la lista de todos los planetas de la variable `planets`:"
      ],
      "metadata": {
        "id": "FUxL7V5cDRIu"
      }
    },
    {
      "cell_type": "code",
      "execution_count": null,
      "metadata": {
        "id": "mwKgxtOj_FJA"
      },
      "outputs": [],
      "source": [
        "planets = [\"Mercury\", \"Venus\", \"Earth\", \"Mars\", \"Jupiter\", \"Saturn\", \"Uranus\", \"Neptune\"]"
      ]
    },
    {
      "cell_type": "markdown",
      "source": [
        "**Acceso a elementos de lista por índice**\n",
        "\n",
        "Puede acceder a cualquier elemento de una lista colocando el índice entre corchetes `[]` después del nombre de la variable de lista. Los índices comienzan a partir de 0, por lo que en el código siguiente, `planets[0] `es el primer elemento de la lista `planets`:\n"
      ],
      "metadata": {
        "id": "obmToUoZDYrx"
      }
    },
    {
      "cell_type": "code",
      "source": [
        "planets = [\"Mercury\", \"Venus\", \"Earth\", \"Mars\", \"Jupiter\", \"Saturn\", \"Uranus\", \"Neptune\"]\n",
        "print(\"The first planet is\", planets[0])\n",
        "print(\"The second planet is\", planets[1])\n",
        "print(\"The third planet is\", planets[2])"
      ],
      "metadata": {
        "id": "47ej5YVMDcvy",
        "colab": {
          "base_uri": "https://localhost:8080/"
        },
        "outputId": "345174c0-3635-4694-c061-1ffd303c3549"
      },
      "execution_count": null,
      "outputs": [
        {
          "output_type": "stream",
          "name": "stdout",
          "text": [
            "The first planet is Mercury\n",
            "The second planet is Venus\n",
            "The third planet is Earth\n"
          ]
        }
      ]
    },
    {
      "cell_type": "markdown",
      "source": [
        "Nota: Dado que todos los índices empiezan por `0`, `[1]` es el segundo elemento, `[2]` es el tercero, etc."
      ],
      "metadata": {
        "id": "F1d2uVRNDjrr"
      }
    },
    {
      "cell_type": "markdown",
      "source": [
        "También puede modificar valores de una lista mediante un índice. Para ello, asigne un nuevo valor, de la misma manera que asignaría un valor de variable. Por ejemplo, podría cambiar el nombre de Marte en la lista para usar su alias:\n"
      ],
      "metadata": {
        "id": "YgEtOPlZDpYl"
      }
    },
    {
      "cell_type": "code",
      "source": [
        "planets = [\"Mercury\", \"Venus\", \"Earth\", \"Mars\", \"Jupiter\", \"Saturn\", \"Uranus\", \"Neptune\"]\n",
        "planets[3] = \"Red Planet\"\n",
        "print(\"Mars is also known as\", planets[3])"
      ],
      "metadata": {
        "id": "ieAL5faXDsI9",
        "colab": {
          "base_uri": "https://localhost:8080/"
        },
        "outputId": "5081dfc4-842b-45f8-9993-555d4f3459a4"
      },
      "execution_count": null,
      "outputs": [
        {
          "output_type": "stream",
          "name": "stdout",
          "text": [
            "Mars is also known as Red Planet\n"
          ]
        }
      ]
    },
    {
      "cell_type": "markdown",
      "source": [
        "**Determinación de la longitud de una lista**\n",
        "\n",
        "Para obtener la longitud de una lista, use la función integrada `len()`. El código siguiente crea una variable, `number_of_planets`. El código asigna esa variable con el número de elementos de la lista `planets (8)`."
      ],
      "metadata": {
        "id": "QSmraL6GDvRs"
      }
    },
    {
      "cell_type": "code",
      "source": [
        "planets = [\"Mercury\", \"Venus\", \"Earth\", \"Mars\", \"Jupiter\", \"Saturn\", \"Uranus\", \"Neptune\"]\n",
        "number_of_planets = len(planets)\n",
        "print(\"There are\", number_of_planets, \"planets in the solar system.\")"
      ],
      "metadata": {
        "id": "DZlrve91D2iQ",
        "colab": {
          "base_uri": "https://localhost:8080/"
        },
        "outputId": "6dc3f6dd-61aa-4b68-f6b1-6429b7141123"
      },
      "execution_count": null,
      "outputs": [
        {
          "output_type": "stream",
          "name": "stdout",
          "text": [
            "There are 8 planets in the solar system.\n"
          ]
        }
      ]
    },
    {
      "cell_type": "markdown",
      "source": [
        "**Incorporación de valores a listas**\n",
        "\n",
        "Las listas de Python son dinámicas: puede agregar y quitar elementos después de crearlas. Para agregar un elemento a una lista, use el método `.append(value)`.\n",
        "\n",
        "Por ejemplo, el código siguiente agrega la cadena `\"Pluto\"` al final de la lista `planets`:"
      ],
      "metadata": {
        "id": "DaIhFwUCD3i4"
      }
    },
    {
      "cell_type": "code",
      "source": [
        "planets = [\"Mercury\", \"Venus\", \"Earth\", \"Mars\", \"Jupiter\", \"Saturn\", \"Uranus\", \"Neptune\"]\n",
        "planets.append(\"Pluto\")\n",
        "number_of_planets = len(planets)\n",
        "print(\"There are actually\", number_of_planets, \"planets in the solar system.\")"
      ],
      "metadata": {
        "id": "EoACqwv2D8yW",
        "colab": {
          "base_uri": "https://localhost:8080/"
        },
        "outputId": "e9f491a5-ba7c-45cc-cac0-8f7eb0558416"
      },
      "execution_count": null,
      "outputs": [
        {
          "output_type": "stream",
          "name": "stdout",
          "text": [
            "There are actually 9 planets in the solar system.\n"
          ]
        }
      ]
    },
    {
      "cell_type": "code",
      "source": [
        "print(planets)"
      ],
      "metadata": {
        "colab": {
          "base_uri": "https://localhost:8080/"
        },
        "id": "jRHEV3xmg23y",
        "outputId": "cf08caed-d8f8-4f14-82df-17d9157418b1"
      },
      "execution_count": null,
      "outputs": [
        {
          "output_type": "stream",
          "name": "stdout",
          "text": [
            "['Mercury', 'Venus', 'Earth', 'Mars', 'Jupiter', 'Saturn', 'Uranus', 'Neptune', 'Pluto']\n"
          ]
        }
      ]
    },
    {
      "cell_type": "markdown",
      "source": [
        "**Eliminación de valores de listas**\n",
        "\n",
        "\n",
        "Puede quitar el último elemento de una lista llamando al método `.pop()` en la variable de lista:"
      ],
      "metadata": {
        "id": "Rsz3FrJHD-eW"
      }
    },
    {
      "cell_type": "code",
      "source": [
        "planets = [\"Mercury\", \"Venus\", \"Earth\", \"Mars\", \"Jupiter\", \"Saturn\", \"Uranus\", \"Neptune\", \"Pluto\"]\n",
        "planets.pop()  # Goodbye, Pluto\n",
        "number_of_planets = len(planets)\n",
        "print(\"No, there are definitely\", number_of_planets, \"planets in the solar system.\")"
      ],
      "metadata": {
        "id": "DQAxg4dVD5so",
        "colab": {
          "base_uri": "https://localhost:8080/"
        },
        "outputId": "f5efc605-12e9-48ba-91e2-aa9f62a6242f"
      },
      "execution_count": null,
      "outputs": [
        {
          "output_type": "stream",
          "name": "stdout",
          "text": [
            "No, there are definitely 8 planets in the solar system.\n"
          ]
        }
      ]
    },
    {
      "cell_type": "markdown",
      "source": [
        "**Uso de índices negativos**\n",
        "\n",
        "Ha visto cómo usar índices para capturar un elemento individual en una lista:\n"
      ],
      "metadata": {
        "id": "LwvX6zGkEB1S"
      }
    },
    {
      "cell_type": "code",
      "source": [
        "print(\"The first planet is\", planets[0])"
      ],
      "metadata": {
        "id": "3yIhhYViEHFc",
        "colab": {
          "base_uri": "https://localhost:8080/"
        },
        "outputId": "cf055e20-b3e8-4947-bc83-a040545e1d2e"
      },
      "execution_count": null,
      "outputs": [
        {
          "output_type": "stream",
          "name": "stdout",
          "text": [
            "The first planet is Mercury\n"
          ]
        }
      ]
    },
    {
      "cell_type": "markdown",
      "source": [
        "Los índices comienzan en cero y van en aumento. Los índices negativos comienzan al final de la lista y van hacia atrás.\n",
        "\n",
        "En el ejemplo siguiente, un índice de -1 devuelve el último elemento de una lista. Un índice de -2 devuelve el penúltimo."
      ],
      "metadata": {
        "id": "1ERhrmYxEIVw"
      }
    },
    {
      "cell_type": "code",
      "source": [
        "planets = [\"Mercury\", \"Venus\", \"Earth\", \"Mars\", \"Jupiter\", \"Saturn\", \"Uranus\", \"Neptune\"]\n",
        "print(\"The last planet is\", planets[-1])\n",
        "print(\"The penultimate planet is\", planets[-2])"
      ],
      "metadata": {
        "id": "MGiJf7y-EKLM",
        "colab": {
          "base_uri": "https://localhost:8080/"
        },
        "outputId": "f58a65db-009a-4169-9822-0738546c3c26"
      },
      "execution_count": null,
      "outputs": [
        {
          "output_type": "stream",
          "name": "stdout",
          "text": [
            "The last planet is Neptune\n",
            "The penultimate planet is Uranus\n"
          ]
        }
      ]
    },
    {
      "cell_type": "markdown",
      "source": [
        "Si quisiera devolver el antepenúltimo, usaría un índice de `-3` (y así sucesivamente)."
      ],
      "metadata": {
        "id": "fq4upCyFEL3O"
      }
    },
    {
      "cell_type": "markdown",
      "source": [
        "**Búsqueda de un valor en una lista**\n",
        "\n",
        "Para determinar dónde se almacena un valor en una lista, use el método `index` de la lista. Este método busca el valor y devuelve el índice de ese elemento en la lista. Si no encuentra ninguna coincidencia, devuelve `-1`.\n",
        "\n",
        "En el ejemplo siguiente se muestra el uso de `\"Jupiter\"` como el valor del índice:"
      ],
      "metadata": {
        "id": "T2gxsiknENmO"
      }
    },
    {
      "cell_type": "code",
      "source": [
        "planets = [\"Mercury\", \"Venus\", \"Earth\", \"Mars\", \"Jupiter\", \"Saturn\", \"Uranus\", \"Neptune\"]\n",
        "jupiter_index = planets.index(\"Jupiter\")\n",
        "print(\"Jupiter is the\", jupiter_index + 1, \"planet from the sun\")"
      ],
      "metadata": {
        "id": "CFkSmHAWERpm",
        "colab": {
          "base_uri": "https://localhost:8080/"
        },
        "outputId": "350ad4e9-8cb4-4dc3-ac55-d11384baacda"
      },
      "execution_count": null,
      "outputs": [
        {
          "output_type": "stream",
          "name": "stdout",
          "text": [
            "Jupiter is the 5 planet from the sun\n"
          ]
        }
      ]
    },
    {
      "cell_type": "markdown",
      "source": [
        "Nota: Dado que la indexación comienza por 0, debe agregar 1 para mostrar el número adecuado."
      ],
      "metadata": {
        "id": "n9W5Rmy1ESkL"
      }
    },
    {
      "cell_type": "markdown",
      "source": [
        "#**Ejercicio 1**\n",
        "\n",
        "\n",
        "\n",
        "1.   Crear una lista en Python.\n",
        "2.   Agregar elementos a la lista\n",
        "3.   Mostrar el número de elementos.\n",
        "\n",
        "\n"
      ],
      "metadata": {
        "id": "DZs6mwscEXJP"
      }
    },
    {
      "cell_type": "markdown",
      "source": [
        "#**Trabajo con números en listas**\n",
        "\n",
        "Hasta ahora, hemos estado usando nombres de planetas en una lista. Es posible que te preguntes si se puede trabajar con otros tipos de datos, como números.\n"
      ],
      "metadata": {
        "id": "zd6CZQ_xFkKB"
      }
    },
    {
      "cell_type": "markdown",
      "source": [
        "¿Sabías que la gravedad en otros planetas es más fuerte o más débil en función de la masa o el tamaño del planeta? La gravedad a menudo se mide en G, donde la gravedad en la Tierra es 1 y otros planetas se miden en relación con la Tierra.\n",
        "\n",
        "Para esto, puedes consultar el siguiente link: [Ratio to Eath Values](https://nssdc.gsfc.nasa.gov/planetary/factsheet/planet_table_ratio.html)\n",
        "\n"
      ],
      "metadata": {
        "id": "NMO8_UpNGFUb"
      }
    },
    {
      "cell_type": "markdown",
      "source": [
        "La gravedad en la Luna es de 0,166 G, por este motivo los astronautas pueden saltar tan alto sobre la Luna. La gravedad en Neptuno es de 1,12 G, por lo que saltar es más difícil. Incluso los grandes atletas tendrían dificultades para saltar más de 2 metros en Neptuno.\n",
        "\n",
        "\n",
        "![1140x641.jpg](data:image/jpeg;base64,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)"
      ],
      "metadata": {
        "id": "0xpmPORTGX9l"
      }
    },
    {
      "cell_type": "markdown",
      "source": [
        "**Almacenamiento de números en listas**\n",
        "\n",
        "Para almacenar números con decimales en Python, se debe usar el tipo `float`. Para crear un valor float, escriba el número con la posición decimal y asígnelo a una variable:"
      ],
      "metadata": {
        "id": "VoDJgBBQGrMA"
      }
    },
    {
      "cell_type": "code",
      "source": [
        "gravity_on_earth = 1.0\n",
        "gravity_on_the_moon = 0.166"
      ],
      "metadata": {
        "id": "x7DN3YSJGjq1"
      },
      "execution_count": null,
      "outputs": []
    },
    {
      "cell_type": "markdown",
      "source": [
        "El código siguiente crea una lista en la que se muestran las fuerzas de los ocho planetas del sistema solar, en G:"
      ],
      "metadata": {
        "id": "F630ouB_GwaE"
      }
    },
    {
      "cell_type": "code",
      "source": [
        "gravity_on_planets = [0.378, 0.907, 1, 0.377, 2.36, 0.916, 0.889, 1.12]"
      ],
      "metadata": {
        "id": "_gVrxCZXGyJW"
      },
      "execution_count": null,
      "outputs": []
    },
    {
      "cell_type": "markdown",
      "source": [
        "En esta lista, `gravity_on_planets[0]` es la gravedad en Mercurio (0,378 G), `gravity_on_planets[1]` es la gravedad en Venus (0,907 G), y así sucesivamente.\n",
        "\n",
        "EEn la Tierra, un autobús de dos pisos pesa 124.054 newtons (N). En Mercurio, donde la gravedad es de 0,378 G, el mismo autobús pesa 124,054 newtons multiplicados por 0,378. En Python, para multiplicar dos valores, se usa el símbolo `*`.\n",
        "\n",
        "En el ejemplo siguiente, puede averiguar el peso de un autobús de dos pisos en diferentes planetas obteniendo el valor de la lista:"
      ],
      "metadata": {
        "id": "6zCmVuFqGzMQ"
      }
    },
    {
      "cell_type": "code",
      "source": [
        "gravity_on_planets = [0.378, 0.907, 1, 0.377, 2.36, 0.916, 0.889, 1.12]\n",
        "bus_weight = 124054 # in Newtons, on Earth\n",
        "\n",
        "print(\"On Earth, a double-decker bus weighs\", bus_weight, \"N\")\n",
        "print(\"On Mercury, a double-decker bus weighs\", bus_weight * gravity_on_planets[0], \"N\")"
      ],
      "metadata": {
        "id": "X-QVYgMRG1cM"
      },
      "execution_count": null,
      "outputs": []
    },
    {
      "cell_type": "markdown",
      "source": [
        "**Uso de` min()` y `max()` con listas**\n",
        "\n",
        "Python tiene funciones integradas para calcular los números más grandes y más pequeños de una lista. La función `max()` devuelve el número más grande y `min()` devuelve el más pequeño. Por lo tanto, `min(gravity_on_planets)` devuelve el número más pequeño de la lista `gravity_on_planets`, que es 0,377 (Marte).\n",
        "\n",
        "El código siguiente calcula los pesos mínimo y máximo en el sistema solar mediante esas funciones:"
      ],
      "metadata": {
        "id": "pucje684G2nW"
      }
    },
    {
      "cell_type": "code",
      "source": [
        "gravity_on_planets = [0.378, 0.907, 1, 0.377, 2.36, 0.916, 0.889, 1.12]\n",
        "bus_weight = 124054 # in Newtons, on Earth\n",
        "\n",
        "print(\"On Earth, a double-decker bus weighs\", bus_weight, \"N\")\n",
        "print(\"The lightest a bus would be in the solar system is\", bus_weight * min(gravity_on_planets), \"N\")\n",
        "print(\"The heaviest a bus would be in the solar system is\", bus_weight * max(gravity_on_planets), \"N\")"
      ],
      "metadata": {
        "id": "S2P6JMGuG9L2"
      },
      "execution_count": null,
      "outputs": []
    },
    {
      "cell_type": "markdown",
      "source": [
        "# **Manipulación de datos de la lista**\n",
        "\n",
        "Es posible que tengamos que trabajar con distintas partes de una lista. Por ejemplo, supongamos que tiene una lista con cantidades de precipitaciones durante varios meses. Para analizar correctamente este tipo de datos, es posible que tengamos que buscar las precipitaciones en un periodo de tres meses. También puede que queramos ordenar la lista de mayor a menor cantidad de precipitaciones."
      ],
      "metadata": {
        "id": "PP89F4A0G_SC"
      }
    },
    {
      "cell_type": "markdown",
      "source": [
        "**Segmentación de listas**\n",
        "\n",
        "Puede recuperar una parte de una lista mediante una segmentación. Una segmentación usa corchetes, pero en lugar de un solo elemento, tiene los índices inicial y final. Cuando se usa una segmentación, se crea una lista que comienza en el índice inicial y termina antes del índice final (y no lo incluye)."
      ],
      "metadata": {
        "id": "e6LVkQorHKC9"
      }
    },
    {
      "cell_type": "code",
      "source": [
        "planets = [\"Mercury\", \"Venus\", \"Earth\", \"Mars\", \"Jupiter\", \"Saturn\", \"Uranus\", \"Neptune\"]\n",
        "planets_before_earth = planets[0:2]\n",
        "print(planets_before_earth)"
      ],
      "metadata": {
        "id": "KU6PBlbPHLvK"
      },
      "execution_count": null,
      "outputs": []
    },
    {
      "cell_type": "markdown",
      "source": [
        "Observa cómo la Tierra no está incluida en la lista. El motivo es que el índice finaliza antes del índice final."
      ],
      "metadata": {
        "id": "EPgkPPg2HQh-"
      }
    },
    {
      "cell_type": "markdown",
      "source": [
        "En el ejemplo, se muestra Neptuno. La razón es que el índice de Neptuno es 7, porque la indexación comienza en 0. Dado que el índice final era 8, incluye el último valor. Si no coloca el índice de detención en la segmentación, Python asume que quiere ir al final de la lista:"
      ],
      "metadata": {
        "id": "xbnfo-yxHTTl"
      }
    },
    {
      "cell_type": "code",
      "source": [
        "planets_after_earth = planets[3:]\n",
        "print(planets_after_earth)"
      ],
      "metadata": {
        "id": "7AvqRHRbHIPQ"
      },
      "execution_count": null,
      "outputs": []
    },
    {
      "cell_type": "markdown",
      "source": [
        "**Combinación de listas**\n",
        "\n",
        "Hemos visto cómo puede usar segmentaciones para dividir listas, pero ¿qué sucede con unirlas de nuevo?\n",
        "\n",
        "Para unir dos listas, debe usar el otro operador `(+)` con dos listas para devolver una nueva.\n",
        "\n",
        "Hay 79 lunas conocidas de Júpiter. Las cuatro más grandes son Ío, Europa, Ganímedes y Calisto. Estas lunas se denominan lunas galileanas, ya que Galileo Galilei las descubrió con su telescopio en 1610. El grupo de Amaltea está más cerca de Júpiter que el grupo galileano. Consta de las lunas Metis, Adrastea, Amaltea y Tebe.\n",
        "\n",
        "Cree dos listas. Rellene la primera lista con las cuatro lunas de Amaltea y la segunda lista con las cuatro lunas galileanas. Únalas mediante `+` para crear una lista:"
      ],
      "metadata": {
        "id": "njR327E8HUin"
      }
    },
    {
      "cell_type": "code",
      "source": [
        "amalthea_group = [\"Metis\", \"Adrastea\", \"Amalthea\", \"Thebe\"]\n",
        "galilean_moons = [\"Io\", \"Europa\", \"Ganymede\", \"Callisto\"]\n",
        "\n",
        "regular_satellite_moons = amalthea_group + galilean_moons\n",
        "print(\"The regular satellite moons of Jupiter are\", regular_satellite_moons)"
      ],
      "metadata": {
        "id": "3EZVEkC_G6zg"
      },
      "execution_count": null,
      "outputs": []
    },
    {
      "cell_type": "markdown",
      "source": [
        "**Ordenación de listas**\n",
        "\n",
        "Para ordenar una lista, use el método `.sort()` de la lista. Python ordena una lista de cadenas en orden alfabético y una lista de números en orden numérico:\n",
        "\n"
      ],
      "metadata": {
        "id": "SG0TeqaTHZf2"
      }
    },
    {
      "cell_type": "code",
      "source": [
        "amalthea_group = [\"Metis\", \"Adrastea\", \"Amalthea\", \"Thebe\"]\n",
        "galilean_moons = [\"Io\", \"Europa\", \"Ganymede\", \"Callisto\"]\n",
        "\n",
        "regular_satellite_moons = amalthea_group + galilean_moons\n",
        "regular_satellite_moons.sort()\n",
        "print(\"The regular satellite moons of Jupiter are\", regular_satellite_moons)\n"
      ],
      "metadata": {
        "id": "JwvTcSUVHoW2"
      },
      "execution_count": null,
      "outputs": []
    },
    {
      "cell_type": "markdown",
      "source": [
        "Para ordenar una lista en orden inverso, llame a .sort(reverse=True) en la lista:"
      ],
      "metadata": {
        "id": "_A-S8B3_Ha-0"
      }
    },
    {
      "cell_type": "code",
      "source": [
        "amalthea_group = [\"Metis\", \"Adrastea\", \"Amalthea\", \"Thebe\"]\n",
        "galilean_moons = [\"Io\", \"Europa\", \"Ganymede\", \"Callisto\"]\n",
        "\n",
        "regular_satellite_moons = amalthea_group + galilean_moons\n",
        "regular_satellite_moons.sort(reverse=True)\n",
        "print(\"The regular satellite moons of Jupiter are\", regular_satellite_moons)"
      ],
      "metadata": {
        "id": "v055MYUFHsZz"
      },
      "execution_count": null,
      "outputs": []
    },
    {
      "cell_type": "markdown",
      "source": [
        "#**Ejercicio 2**\n",
        "\n",
        "\n",
        "\n",
        "1.   Crear una lista de planetas\n",
        "2.   Solicitar al usuario el nombre planeta. Lo harás usando input. Debido a que las cadenas distinguen entre mayúsculas y minúsculas en Python, pídale al usuario que use una letra mayúscula para comenzar el nombre del planeta.\n",
        "3.  Determina qué planetas están más cerca que el que ingresó el usuario. Para hacer esto, necesitas encontrar dónde está el planeta en la lista. Puede utilizar el método de índice para realizar esta operación. Agregue el código para encontrar el índice del planeta y guárdelo en una variable llamada planet_index.\n",
        "4.   Mostrar más planetas: Puedes utilizar el mismo índice para mostrar planetas más alejados del sol. Sin embargo, recuerda que el índice inicial se incluye cuando utiliza un segmento. Como resultado, tendrás que sumar 1 al valor. Agrega el código para mostrar los** planetas más alejados del sol. **\n",
        "\n",
        "\n"
      ],
      "metadata": {
        "id": "5u_Tm-6SHvSB"
      }
    },
    {
      "cell_type": "markdown",
      "source": [
        "![satelites-galileanos-600.jpg](data:image/jpeg;base64,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)\n",
        "\n",
        "\n",
        "\n",
        "*Satelites galileanos*"
      ],
      "metadata": {
        "id": "gUm8MtaGI0Xy"
      }
    },
    {
      "cell_type": "markdown",
      "source": [
        "# **Ejercicio 3**\n",
        "\n",
        "Realiza el siguiente Quiz:  [Listas de Python](https://docs.google.com/forms/d/e/1FAIpQLSdjWecRuc9aDQNcEVEIU8HfKSBVHVqwBPUZjFSPxwqjl0VFzg/viewform?usp=pp_url&entry.366340186=Llaves:+%7B%7D&entry.999717116=planets%5B%5D&entry.1648272343=planets.sort())"
      ],
      "metadata": {
        "id": "GWmvo06LPOU_"
      }
    }
  ]
}